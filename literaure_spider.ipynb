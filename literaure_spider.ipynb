{
  "nbformat": 4,
  "nbformat_minor": 0,
  "metadata": {
    "colab": {
      "provenance": []
    },
    "kernelspec": {
      "name": "python3",
      "display_name": "Python 3"
    },
    "language_info": {
      "name": "python"
    }
  },
  "cells": [
    {
      "cell_type": "code",
      "source": [
        "import requests\n",
        "from xml.etree import ElementTree\n",
        "import pandas as pd\n",
        "from datetime import datetime\n",
        "\n",
        "# Set pandas options to display all rows and columns\n",
        "pd.set_option('display.max_columns', None)\n",
        "pd.set_option('display.max_rows', None)\n",
        "\n",
        "# Base URL for PubMed E-utilities API\n",
        "base_url = 'https://eutils.ncbi.nlm.nih.gov/entrez/eutils/'\n",
        "\n",
        "# Current date and January 1 of five years ago\n",
        "current_date = datetime.now().strftime('%Y/%m/%d')\n",
        "five_years_ago_date = datetime(datetime.now().year - 5, 1, 1).strftime('%Y/%m/%d')\n",
        "\n",
        "# Your query\n",
        "query = f'selective kinase inhibitor AND (\"{five_years_ago_date}\"[PDAT] : \"{current_date}\"[PDAT])'\n",
        "\n",
        "# Create an empty DataFrame to store the results\n",
        "df = pd.DataFrame(columns=['Title', 'URL', 'Authors', 'Journal', 'Publication Year'])\n",
        "\n",
        "# Send a GET request to the ESearch utility to search for the query in PubMed\n",
        "response = requests.get(f'{base_url}esearch.fcgi', params={\n",
        "    'db': 'pubmed',\n",
        "    'term': query,\n",
        "    'retmode': 'xml'\n",
        "})\n",
        "\n",
        "# If the request is successful, parse the XML response\n",
        "if response.status_code == 200:\n",
        "    root = ElementTree.fromstring(response.text)\n",
        "    # Get the list of PubMed IDs (PMIDs) from the response\n",
        "    id_list = [id_elem.text for id_elem in root.iter('Id')]\n",
        "\n",
        "    # Create a list to store the data\n",
        "    data_to_append = []\n",
        "\n",
        "    # For each PMID, send a GET request to the ESummary utility to retrieve the article details\n",
        "    for pmid in id_list:\n",
        "        response = requests.get(f'{base_url}esummary.fcgi', params={\n",
        "            'db': 'pubmed',\n",
        "            'id': pmid,\n",
        "            'retmode': 'xml'\n",
        "        })\n",
        "        if response.status_code == 200:\n",
        "            root = ElementTree.fromstring(response.text)\n",
        "            # Extract the title, URL, authors, journal, and publication year for each article and add them to the list\n",
        "            for docsum in root.iter('DocSum'):\n",
        "                title = docsum.find('Item[@Name=\"Title\"]').text\n",
        "                url = f'https://pubmed.ncbi.nlm.nih.gov/{pmid}/'\n",
        "                authors = docsum.find('Item[@Name=\"Authors\"]').text if docsum.find('Item[@Name=\"Authors\"]') is not None else 'N/A'\n",
        "                journal = docsum.find('Item[@Name=\"FullJournalName\"]').text if docsum.find('Item[@Name=\"FullJournalName\"]') is not None else 'N/A'\n",
        "                pub_year = docsum.find('Item[@Name=\"PubDate\"]').text.split()[0] if docsum.find('Item[@Name=\"PubDate\"]') is not None else 'N/A'\n",
        "                data_to_append.append({'Title': title, 'URL': url, 'Authors': authors, 'Journal': journal, 'Publication Year': pub_year})\n",
        "\n",
        "    # Concatenate the list of dictionaries to the DataFrame\n",
        "    df = pd.concat([df, pd.DataFrame(data_to_append)], ignore_index=True)\n",
        "\n",
        "# Display the DataFrame\n",
        "print(df)\n",
        "\n",
        "# Save the DataFrame as a CSV file\n",
        "df.to_csv('literature.csv', index=False)\n"
      ],
      "metadata": {
        "id": "eH0A6LP3o2Cu",
        "outputId": "72f40840-5514-4bd1-d9da-2b94d48fcf5e",
        "colab": {
          "base_uri": "https://localhost:8080/"
        }
      },
      "execution_count": 5,
      "outputs": [
        {
          "output_type": "stream",
          "name": "stdout",
          "text": [
            "                                                Title  \\\n",
            "0   Genomic Discovery and Structure-Activity Explo...   \n",
            "1   Repurposing Antiviral Drugs as Potential Anti-...   \n",
            "2   Dapagliflozin restores autophagy and attenuate...   \n",
            "3   Dual Adjuvant-Loaded Peptide Antigen Self-Asse...   \n",
            "4   Statins enhance extracellular release of hepat...   \n",
            "5   Co-Expression Network Analysis and Molecular D...   \n",
            "6   A novel chemical genetic approach reveals para...   \n",
            "7   Rhabdomyolysis Associated With Febuxostat in a...   \n",
            "8   A novel disposable ultrasensitive sensor based...   \n",
            "9   Immunohistochemical Expression of Caspase1 and...   \n",
            "10  Guselkumab: a new etiological factor of Medica...   \n",
            "11  Synthesis and evaluation of chemical linchpins...   \n",
            "12  Exploring the therapeutic potential of a novel...   \n",
            "13  Advances with janus kinase inhibitors for the ...   \n",
            "14  Empagliflozin demonstrates cytotoxicity and sy...   \n",
            "15  SARS-CoV-2 E protein interacts with BRD2 and B...   \n",
            "16  Upfront versus deferred cytoreductive nephrect...   \n",
            "17  Labeling of Bruton's Tyrosine Kinase (BTK) Inh...   \n",
            "18  Molecular Mapping and Transfer of Quantitative...   \n",
            "19  PON1 rs662, rs854560 and TRIB1 rs17321515, rs2...   \n",
            "\n",
            "                                          URL Authors  \\\n",
            "0   https://pubmed.ncbi.nlm.nih.gov/39078366/     N/A   \n",
            "1   https://pubmed.ncbi.nlm.nih.gov/39078025/     N/A   \n",
            "2   https://pubmed.ncbi.nlm.nih.gov/39075258/     N/A   \n",
            "3   https://pubmed.ncbi.nlm.nih.gov/39073756/     N/A   \n",
            "4   https://pubmed.ncbi.nlm.nih.gov/39073705/     N/A   \n",
            "5   https://pubmed.ncbi.nlm.nih.gov/39071813/     N/A   \n",
            "6   https://pubmed.ncbi.nlm.nih.gov/39071800/     N/A   \n",
            "7   https://pubmed.ncbi.nlm.nih.gov/39070364/     N/A   \n",
            "8   https://pubmed.ncbi.nlm.nih.gov/39068826/     N/A   \n",
            "9   https://pubmed.ncbi.nlm.nih.gov/39068588/     N/A   \n",
            "10  https://pubmed.ncbi.nlm.nih.gov/39067641/     N/A   \n",
            "11  https://pubmed.ncbi.nlm.nih.gov/39067440/     N/A   \n",
            "12  https://pubmed.ncbi.nlm.nih.gov/39067009/     N/A   \n",
            "13  https://pubmed.ncbi.nlm.nih.gov/39067001/     N/A   \n",
            "14  https://pubmed.ncbi.nlm.nih.gov/39066911/     N/A   \n",
            "15  https://pubmed.ncbi.nlm.nih.gov/39066826/     N/A   \n",
            "16  https://pubmed.ncbi.nlm.nih.gov/39066794/     N/A   \n",
            "17  https://pubmed.ncbi.nlm.nih.gov/39063112/     N/A   \n",
            "18  https://pubmed.ncbi.nlm.nih.gov/39062698/     N/A   \n",
            "19  https://pubmed.ncbi.nlm.nih.gov/39062650/     N/A   \n",
            "\n",
            "                                              Journal Publication Year  \n",
            "0                      Journal of medicinal chemistry             2024  \n",
            "1                            Chemistry & biodiversity             2024  \n",
            "2                International urology and nephrology             2024  \n",
            "3   Advanced science (Weinheim, Baden-Wurttemberg,...             2024  \n",
            "4                         Microbiology and immunology             2024  \n",
            "5                Drug design, development and therapy             2024  \n",
            "6         Frontiers in cell and developmental biology             2024  \n",
            "7                                              Cureus             2024  \n",
            "8                                             Talanta             2024  \n",
            "9   Asian Pacific journal of cancer prevention : A...             2024  \n",
            "10  Journal of stomatology, oral and maxillofacial...             2024  \n",
            "11            European journal of medicinal chemistry             2024  \n",
            "12                          Journal of drug targeting             2024  \n",
            "13                  Expert opinion on pharmacotherapy             2024  \n",
            "14     Naunyn-Schmiedeberg's archives of pharmacology             2024  \n",
            "15        Cellular and molecular life sciences : CMLS             2024  \n",
            "16                           World journal of urology             2024  \n",
            "17        International journal of molecular sciences             2024  \n",
            "18                                              Genes             2024  \n",
            "19                                              Genes             2024  \n"
          ]
        }
      ]
    },
    {
      "cell_type": "code",
      "source": [
        "#@title ### **Import Google Drive**\n",
        "#@markdown Click in the \"Run\" buttom to make your Google Drive accessible.\n",
        "from google.colab import drive\n",
        "\n",
        "drive.flush_and_unmount()\n",
        "drive.mount('/content/drive', force_remount=True)"
      ],
      "metadata": {
        "cellView": "form",
        "id": "aT8ZR8P_5pnQ",
        "outputId": "8f3cb462-466b-43c9-d0cd-8d5f95b970d9",
        "colab": {
          "base_uri": "https://localhost:8080/"
        }
      },
      "execution_count": null,
      "outputs": [
        {
          "output_type": "stream",
          "name": "stdout",
          "text": [
            "Drive not mounted, so nothing to flush and unmount.\n",
            "Mounted at /content/drive\n"
          ]
        }
      ]
    }
  ]
}