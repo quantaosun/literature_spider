{
  "nbformat": 4,
  "nbformat_minor": 0,
  "metadata": {
    "colab": {
      "provenance": [],
      "include_colab_link": true
    },
    "kernelspec": {
      "name": "python3",
      "display_name": "Python 3"
    },
    "language_info": {
      "name": "python"
    }
  },
  "cells": [
    {
      "cell_type": "markdown",
      "metadata": {
        "id": "view-in-github",
        "colab_type": "text"
      },
      "source": [
        "<a href=\"https://colab.research.google.com/github/quantaosun/literature_spider/blob/main/literaure_spider.ipynb\" target=\"_parent\"><img src=\"https://colab.research.google.com/assets/colab-badge.svg\" alt=\"Open In Colab\"/></a>"
      ]
    },
    {
      "cell_type": "code",
      "source": [
        "import requests\n",
        "from xml.etree import ElementTree\n",
        "import pandas as pd\n",
        "from datetime import datetime\n",
        "\n",
        "# Set pandas options to display all rows and columns\n",
        "pd.set_option('display.max_columns', None)\n",
        "pd.set_option('display.max_rows', None)\n",
        "\n",
        "# Base URL for PubMed E-utilities API\n",
        "base_url = 'https://eutils.ncbi.nlm.nih.gov/entrez/eutils/'\n",
        "\n",
        "# Current date and January 1 of five years ago\n",
        "current_date = datetime.now().strftime('%Y/%m/%d')\n",
        "five_years_ago_date = datetime(datetime.now().year - 5, 1, 1).strftime('%Y/%m/%d')\n",
        "\n",
        "# Your query\n",
        "query = f'selective kinase inhibitor AND (\"{five_years_ago_date}\"[PDAT] : \"{current_date}\"[PDAT])'\n",
        "\n",
        "# Create an empty DataFrame to store the results\n",
        "df = pd.DataFrame(columns=['Title', 'URL', 'Authors', 'Journal', 'Publication Year'])\n",
        "\n",
        "# Send a GET request to the ESearch utility to search for the query in PubMed\n",
        "response = requests.get(f'{base_url}esearch.fcgi', params={\n",
        "    'db': 'pubmed',\n",
        "    'term': query,\n",
        "    'retmode': 'xml'\n",
        "})\n",
        "\n",
        "# If the request is successful, parse the XML response\n",
        "if response.status_code == 200:\n",
        "    root = ElementTree.fromstring(response.text)\n",
        "    # Get the list of PubMed IDs (PMIDs) from the response\n",
        "    id_list = [id_elem.text for id_elem in root.iter('Id')]\n",
        "\n",
        "    # For each PMID, send a GET request to the ESummary utility to retrieve the article details\n",
        "    for pmid in id_list:\n",
        "        response = requests.get(f'{base_url}esummary.fcgi', params={\n",
        "            'db': 'pubmed',\n",
        "            'id': pmid,\n",
        "            'retmode': 'xml'\n",
        "        })\n",
        "        if response.status_code == 200:\n",
        "            root = ElementTree.fromstring(response.text)\n",
        "            # Extract the title, URL, authors, journal, and publication year for each article and add them to the DataFrame\n",
        "            for docsum in root.iter('DocSum'):\n",
        "                title = docsum.find('Item[@Name=\"Title\"]').text\n",
        "                url = f'https://pubmed.ncbi.nlm.nih.gov/{pmid}/'\n",
        "                authors = docsum.find('Item[@Name=\"Authors\"]').text if docsum.find('Item[@Name=\"Authors\"]') is not None else 'N/A'\n",
        "                journal = docsum.find('Item[@Name=\"FullJournalName\"]').text if docsum.find('Item[@Name=\"FullJournalName\"]') is not None else 'N/A'\n",
        "                pub_year = docsum.find('Item[@Name=\"PubDate\"]').text.split()[0] if docsum.find('Item[@Name=\"PubDate\"]') is not None else 'N/A'\n",
        "                df = df.append({'Title': title, 'URL': url, 'Authors': authors, 'Journal': journal, 'Publication Year': pub_year}, ignore_index=True)\n",
        "\n",
        "# Display the DataFrame\n",
        "print(df)\n",
        "\n",
        "# Save the DataFrame as a CSV file\n",
        "df.to_csv('literature.csv', index=False)\n"
      ],
      "metadata": {
        "colab": {
          "base_uri": "https://localhost:8080/"
        },
        "id": "q9c9wQKaXJPm",
        "outputId": "e5e7d2cb-c8ca-4075-df6f-1f9f51b494f5"
      },
      "execution_count": 8,
      "outputs": [
        {
          "output_type": "stream",
          "name": "stderr",
          "text": [
            "<ipython-input-8-f20c3bab3c53>:52: FutureWarning: The frame.append method is deprecated and will be removed from pandas in a future version. Use pandas.concat instead.\n",
            "  df = df.append({'Title': title, 'URL': url, 'Authors': authors, 'Journal': journal, 'Publication Year': pub_year}, ignore_index=True)\n",
            "<ipython-input-8-f20c3bab3c53>:52: FutureWarning: The frame.append method is deprecated and will be removed from pandas in a future version. Use pandas.concat instead.\n",
            "  df = df.append({'Title': title, 'URL': url, 'Authors': authors, 'Journal': journal, 'Publication Year': pub_year}, ignore_index=True)\n",
            "<ipython-input-8-f20c3bab3c53>:52: FutureWarning: The frame.append method is deprecated and will be removed from pandas in a future version. Use pandas.concat instead.\n",
            "  df = df.append({'Title': title, 'URL': url, 'Authors': authors, 'Journal': journal, 'Publication Year': pub_year}, ignore_index=True)\n",
            "<ipython-input-8-f20c3bab3c53>:52: FutureWarning: The frame.append method is deprecated and will be removed from pandas in a future version. Use pandas.concat instead.\n",
            "  df = df.append({'Title': title, 'URL': url, 'Authors': authors, 'Journal': journal, 'Publication Year': pub_year}, ignore_index=True)\n",
            "<ipython-input-8-f20c3bab3c53>:52: FutureWarning: The frame.append method is deprecated and will be removed from pandas in a future version. Use pandas.concat instead.\n",
            "  df = df.append({'Title': title, 'URL': url, 'Authors': authors, 'Journal': journal, 'Publication Year': pub_year}, ignore_index=True)\n",
            "<ipython-input-8-f20c3bab3c53>:52: FutureWarning: The frame.append method is deprecated and will be removed from pandas in a future version. Use pandas.concat instead.\n",
            "  df = df.append({'Title': title, 'URL': url, 'Authors': authors, 'Journal': journal, 'Publication Year': pub_year}, ignore_index=True)\n",
            "<ipython-input-8-f20c3bab3c53>:52: FutureWarning: The frame.append method is deprecated and will be removed from pandas in a future version. Use pandas.concat instead.\n",
            "  df = df.append({'Title': title, 'URL': url, 'Authors': authors, 'Journal': journal, 'Publication Year': pub_year}, ignore_index=True)\n",
            "<ipython-input-8-f20c3bab3c53>:52: FutureWarning: The frame.append method is deprecated and will be removed from pandas in a future version. Use pandas.concat instead.\n",
            "  df = df.append({'Title': title, 'URL': url, 'Authors': authors, 'Journal': journal, 'Publication Year': pub_year}, ignore_index=True)\n",
            "<ipython-input-8-f20c3bab3c53>:52: FutureWarning: The frame.append method is deprecated and will be removed from pandas in a future version. Use pandas.concat instead.\n",
            "  df = df.append({'Title': title, 'URL': url, 'Authors': authors, 'Journal': journal, 'Publication Year': pub_year}, ignore_index=True)\n",
            "<ipython-input-8-f20c3bab3c53>:52: FutureWarning: The frame.append method is deprecated and will be removed from pandas in a future version. Use pandas.concat instead.\n",
            "  df = df.append({'Title': title, 'URL': url, 'Authors': authors, 'Journal': journal, 'Publication Year': pub_year}, ignore_index=True)\n",
            "<ipython-input-8-f20c3bab3c53>:52: FutureWarning: The frame.append method is deprecated and will be removed from pandas in a future version. Use pandas.concat instead.\n",
            "  df = df.append({'Title': title, 'URL': url, 'Authors': authors, 'Journal': journal, 'Publication Year': pub_year}, ignore_index=True)\n",
            "<ipython-input-8-f20c3bab3c53>:52: FutureWarning: The frame.append method is deprecated and will be removed from pandas in a future version. Use pandas.concat instead.\n",
            "  df = df.append({'Title': title, 'URL': url, 'Authors': authors, 'Journal': journal, 'Publication Year': pub_year}, ignore_index=True)\n",
            "<ipython-input-8-f20c3bab3c53>:52: FutureWarning: The frame.append method is deprecated and will be removed from pandas in a future version. Use pandas.concat instead.\n",
            "  df = df.append({'Title': title, 'URL': url, 'Authors': authors, 'Journal': journal, 'Publication Year': pub_year}, ignore_index=True)\n",
            "<ipython-input-8-f20c3bab3c53>:52: FutureWarning: The frame.append method is deprecated and will be removed from pandas in a future version. Use pandas.concat instead.\n",
            "  df = df.append({'Title': title, 'URL': url, 'Authors': authors, 'Journal': journal, 'Publication Year': pub_year}, ignore_index=True)\n",
            "<ipython-input-8-f20c3bab3c53>:52: FutureWarning: The frame.append method is deprecated and will be removed from pandas in a future version. Use pandas.concat instead.\n",
            "  df = df.append({'Title': title, 'URL': url, 'Authors': authors, 'Journal': journal, 'Publication Year': pub_year}, ignore_index=True)\n",
            "<ipython-input-8-f20c3bab3c53>:52: FutureWarning: The frame.append method is deprecated and will be removed from pandas in a future version. Use pandas.concat instead.\n",
            "  df = df.append({'Title': title, 'URL': url, 'Authors': authors, 'Journal': journal, 'Publication Year': pub_year}, ignore_index=True)\n",
            "<ipython-input-8-f20c3bab3c53>:52: FutureWarning: The frame.append method is deprecated and will be removed from pandas in a future version. Use pandas.concat instead.\n",
            "  df = df.append({'Title': title, 'URL': url, 'Authors': authors, 'Journal': journal, 'Publication Year': pub_year}, ignore_index=True)\n",
            "<ipython-input-8-f20c3bab3c53>:52: FutureWarning: The frame.append method is deprecated and will be removed from pandas in a future version. Use pandas.concat instead.\n",
            "  df = df.append({'Title': title, 'URL': url, 'Authors': authors, 'Journal': journal, 'Publication Year': pub_year}, ignore_index=True)\n",
            "<ipython-input-8-f20c3bab3c53>:52: FutureWarning: The frame.append method is deprecated and will be removed from pandas in a future version. Use pandas.concat instead.\n",
            "  df = df.append({'Title': title, 'URL': url, 'Authors': authors, 'Journal': journal, 'Publication Year': pub_year}, ignore_index=True)\n"
          ]
        },
        {
          "output_type": "stream",
          "name": "stdout",
          "text": [
            "                                                Title  \\\n",
            "0   A new triazolyl-indolo-quinoxaline induces apo...   \n",
            "1   A Meta-Analysis to Assess the Efficacy of HER2...   \n",
            "2   Zebrafish as model system for the biological c...   \n",
            "3   Integrated proteomic and phosphoproteomic data...   \n",
            "4   Overcoming the therapeutic limitations of EZH2...   \n",
            "5   Health-related quality of life in treatment-na...   \n",
            "6   A Novel LC-MS/MS Method for Therapeutic Drug M...   \n",
            "7   BAX activation in mouse retinal ganglion cells...   \n",
            "8   Identification of histidine kinase inhibitors ...   \n",
            "9   Protein-Protein Interfaces as Druggable Target...   \n",
            "10  A Phase I Study of the DNA-PK Inhibitor Pepose...   \n",
            "11  Transcriptomics-inferred dynamics of SARS-CoV-...   \n",
            "12                      Befotertinib: First Approval.   \n",
            "13  Effect of Tucatinib on Cardiac Repolarization ...   \n",
            "14  Tyrosine-kinase inhibitor combined with iodine...   \n",
            "15  Brief Report: Tyrosine Kinase Inhibitors for L...   \n",
            "16  Choline metabolism underpins macrophage IL-4 p...   \n",
            "17  NF1 alterations in cancers: therapeutic implic...   \n",
            "18  Novel design of dual-action Pt(IV) anticancer ...   \n",
            "19  Identification of a cancer-associated fibrobla...   \n",
            "\n",
            "                                          URL Authors  \\\n",
            "0   https://pubmed.ncbi.nlm.nih.gov/37756467/     N/A   \n",
            "1   https://pubmed.ncbi.nlm.nih.gov/37754515/     N/A   \n",
            "2   https://pubmed.ncbi.nlm.nih.gov/37753113/     N/A   \n",
            "3   https://pubmed.ncbi.nlm.nih.gov/37753059/     N/A   \n",
            "4   https://pubmed.ncbi.nlm.nih.gov/37752998/     N/A   \n",
            "5   https://pubmed.ncbi.nlm.nih.gov/37752878/     N/A   \n",
            "6   https://pubmed.ncbi.nlm.nih.gov/37752637/     N/A   \n",
            "7   https://pubmed.ncbi.nlm.nih.gov/37752598/     N/A   \n",
            "8   https://pubmed.ncbi.nlm.nih.gov/37752501/     N/A   \n",
            "9   https://pubmed.ncbi.nlm.nih.gov/37751871/     N/A   \n",
            "10  https://pubmed.ncbi.nlm.nih.gov/37751793/     N/A   \n",
            "11  https://pubmed.ncbi.nlm.nih.gov/37751479/     N/A   \n",
            "12  https://pubmed.ncbi.nlm.nih.gov/37751131/     N/A   \n",
            "13  https://pubmed.ncbi.nlm.nih.gov/37751113/     N/A   \n",
            "14  https://pubmed.ncbi.nlm.nih.gov/37749616/     N/A   \n",
            "15  https://pubmed.ncbi.nlm.nih.gov/37748692/     N/A   \n",
            "16  https://pubmed.ncbi.nlm.nih.gov/37747879/     N/A   \n",
            "17  https://pubmed.ncbi.nlm.nih.gov/37747491/     N/A   \n",
            "18  https://pubmed.ncbi.nlm.nih.gov/37747105/     N/A   \n",
            "19  https://pubmed.ncbi.nlm.nih.gov/37746966/     N/A   \n",
            "\n",
            "                                              Journal Publication Year  \n",
            "0                           Drug development research             2023  \n",
            "1                    Current oncology (Toronto, Ont.)             2023  \n",
            "2                           Frontiers in pharmacology             2023  \n",
            "3                                  Biophysics reports             2023  \n",
            "4                               Frontiers in oncology             2023  \n",
            "5                Current medical research and opinion             2023  \n",
            "6                         Therapeutic drug monitoring             2023  \n",
            "7                         Molecular neurodegeneration             2023  \n",
            "8                   Journal of biological engineering             2023  \n",
            "9                            Biochemistry. Biokhimiia             2023  \n",
            "10  International journal of radiation oncology, b...             2023  \n",
            "11                                  Science signaling             2023  \n",
            "12                                              Drugs             2023  \n",
            "13                                       Drugs in R&D             2023  \n",
            "14  Cancer imaging : the official publication of t...             2023  \n",
            "15  Journal of thoracic oncology : official public...             2023  \n",
            "16                                     PLoS pathogens             2023  \n",
            "17            Expert opinion on investigational drugs             2023  \n",
            "18    Dalton transactions (Cambridge, England : 2003)             2023  \n",
            "19                                           Medicine             2023  \n"
          ]
        },
        {
          "output_type": "stream",
          "name": "stderr",
          "text": [
            "<ipython-input-8-f20c3bab3c53>:52: FutureWarning: The frame.append method is deprecated and will be removed from pandas in a future version. Use pandas.concat instead.\n",
            "  df = df.append({'Title': title, 'URL': url, 'Authors': authors, 'Journal': journal, 'Publication Year': pub_year}, ignore_index=True)\n"
          ]
        }
      ]
    },
    {
      "cell_type": "code",
      "source": [
        "#@title ### **Import Google Drive**\n",
        "#@markdown Click in the \"Run\" buttom to make your Google Drive accessible.\n",
        "from google.colab import drive\n",
        "\n",
        "drive.flush_and_unmount()\n",
        "drive.mount('/content/drive', force_remount=True)"
      ],
      "metadata": {
        "cellView": "form",
        "id": "aT8ZR8P_5pnQ",
        "outputId": "8f3cb462-466b-43c9-d0cd-8d5f95b970d9",
        "colab": {
          "base_uri": "https://localhost:8080/"
        }
      },
      "execution_count": 9,
      "outputs": [
        {
          "output_type": "stream",
          "name": "stdout",
          "text": [
            "Drive not mounted, so nothing to flush and unmount.\n",
            "Mounted at /content/drive\n"
          ]
        }
      ]
    }
  ]
}